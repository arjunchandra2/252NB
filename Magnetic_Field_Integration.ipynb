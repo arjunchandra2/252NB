{
  "nbformat": 4,
  "nbformat_minor": 0,
  "metadata": {
    "colab": {
      "provenance": []
    },
    "kernelspec": {
      "name": "python3",
      "display_name": "Python 3"
    },
    "language_info": {
      "name": "python"
    }
  },
  "cells": [
    {
      "cell_type": "markdown",
      "source": [
        "## **Integrating Magnetic Field Over a Wire**"
      ],
      "metadata": {
        "id": "VUcIdM8H2OBn"
      }
    },
    {
      "cell_type": "markdown",
      "source": [
        "Often in physics we are interested in solving integrals. However, many integrals are not solvable by hand, so instead we use numerical techinques to approximate them. In this notebook, we will solve the problem described below (a past midterm problem!) using python. As you'll see, the problem is actually not too difficult to solve by hand so we can check our approximation, but it's a nice and hopefully simple example of how we can computationally estimate integrals."
      ],
      "metadata": {
        "id": "_AsJYfhe2b32"
      }
    },
    {
      "cell_type": "markdown",
      "source": [
        "---"
      ],
      "metadata": {
        "id": "9kbHxpsv_UzJ"
      }
    },
    {
      "cell_type": "markdown",
      "source": [
        "### The Problem:"
      ],
      "metadata": {
        "id": "8R0umz9h5tFu"
      }
    },
    {
      "cell_type": "markdown",
      "source": [
        "A wire lying on the $x$-axis from $x = 0$ to $x = 1$ m carries a current of $I = 3$ Amps in the positive $x$ direction. The wire is immersed in a **non-uniform** magnetic field given by: \\\n",
        "\\\n",
        "\\begin{equation}\n",
        "   \\vec{B}(x,y) = (3.0\\; Tm^{-2})x^2\\hat{i}\\;  - \\;(1.0\\;Tm^{-2})x^2\\hat{j}\n",
        "\\end{equation}\n",
        "\n",
        "\n",
        "\n",
        "\n",
        "\\\n",
        "Find the magnitude and direction of the force on the wire segment. Express the magnitude as a decimal number with units and express the direction in unit vector notation.\n",
        "\n",
        "\n",
        "\n",
        "\n",
        "\n"
      ],
      "metadata": {
        "id": "20OOKYUv3hXw"
      }
    },
    {
      "cell_type": "markdown",
      "source": [
        "---"
      ],
      "metadata": {
        "id": "wrA1425m_OTP"
      }
    },
    {
      "cell_type": "markdown",
      "source": [
        "As with any physics problem, it always helps to draw a picture first. We will import numpy and matplot in order to do this in python. These are standard libraries for performing computations in physics."
      ],
      "metadata": {
        "id": "2Ozb3Ujr-u3y"
      }
    },
    {
      "cell_type": "code",
      "source": [
        "import numpy as np\n",
        "import matplotlib.pyplot as plt"
      ],
      "metadata": {
        "id": "6UWuYopV-6va"
      },
      "execution_count": null,
      "outputs": []
    },
    {
      "cell_type": "code",
      "source": [
        "x = np.linspace(0,1,1000)\n",
        "y = np.zeros_like(x)\n",
        "\n",
        "x1= np.linspace(0,1,20)\n",
        "y1= np.zeros_like(x1)\n",
        "\n",
        "plt.plot(x, y, color = 'grey', linewidth = 5, label = \"wire\")\n",
        "plt.quiver(x1,y1,3*x1**2, -1*x1**2, color = 'red', label = \"B field\")\n",
        "plt.xlim(0,1.3)\n",
        "plt.xlabel('x')\n",
        "plt.ylabel('y')\n",
        "plt.grid()\n",
        "plt.legend()\n",
        "plt.show()"
      ],
      "metadata": {
        "colab": {
          "base_uri": "https://localhost:8080/",
          "height": 449
        },
        "id": "FrycSZmS_IiO",
        "outputId": "435d8c41-ae00-4235-fccb-b286054530a4"
      },
      "execution_count": null,
      "outputs": [
        {
          "output_type": "display_data",
          "data": {
            "text/plain": [
              "<Figure size 640x480 with 1 Axes>"
            ],
            "image/png": "[encoded data removed]"
          },
          "metadata": {}
        }
      ]
    },
    {
      "cell_type": "markdown",
      "source": [
        "Now that we have an idea of what the problem looks like, let's start to think about what equations we will use and the integration to perform. The most relevant equation is: \\n",
        "\n",
        "\\\n",
        "\\begin{equation}\n",
        "   \\vec{F} = I\\vec{L} \\times \\vec{B}\n",
        "\\end{equation}\n",
        "\n",
        "\\\n",
        "Which will be more useful to us in differential form since the magnetic field is not constant along the wire: \\\n",
        "\n",
        "\\\n",
        "\\begin{equation}\n",
        "   d\\vec{F} = Id\\vec{L} \\times \\vec{B}\n",
        "\\end{equation}\n",
        "\n",
        "Our task is to sum up the infinitesimal forces on each segment of the wrie to find the net force on the wire. There are two ways we can do this. The easy way is to import a library that will do the sum for us - this is what is done below. The other way is to use a for loop and implement the sum ourselves. See if you can implement this second way on your own (there is starter code below)!  \\\n",
        "\n",
        "\\\n",
        "**If you do try to implement the second method, try to change the parameter dx to see how the estimate changes!"
      ],
      "metadata": {
        "id": "K7PYynZZCL-k"
      }
    },
    {
      "cell_type": "code",
      "source": [
        "def dF(x):\n",
        "  \"\"\"\n",
        "  vector valued function that returns dF at x\n",
        "  \"\"\"\n",
        "  I = 3\n",
        "  return I * (np.cross([1,0,0], [3*x**2,-1*x**2,0]))\n",
        "\n",
        "\"\"\"\n",
        "Note that in reality, dL=[dx,0,0] since it's only in the x direction, but we used [1,0,0].\n",
        "This is because integrate.quad_vec() only needs the integrand. To give it only the integrand,\n",
        "we set dx=1.\n",
        "\n",
        "Think of manually computing the cross product [dx,0,0] x [a,b,c]. You\n",
        "are going to get [0,0,bdx]. Now you want to integrate it, so you have to give quad_vec\n",
        "the integrand, which is b (for the z direction). So when we do an integration like\n",
        "this with quad_vec, we set dx to 1.\n",
        "\n",
        "When you do the integration manually, then having dx be small is necessary because\n",
        "you are the one computing the Riemann sum (or whatever finite integration scheme you are using)\n",
        "\"\"\""
      ],
      "metadata": {
        "id": "BP7PEkkdErkI"
      },
      "execution_count": null,
      "outputs": []
    },
    {
      "cell_type": "code",
      "source": [
        "import scipy.integrate as integrate"
      ],
      "metadata": {
        "id": "HmgjhEUAVxjN"
      },
      "execution_count": null,
      "outputs": []
    },
    {
      "cell_type": "code",
      "source": [
        "#METHOD 1 - SCIPY Integration\n",
        "\n",
        "integrate.quad_vec(dF, 0, 1)"
      ],
      "metadata": {
        "colab": {
          "base_uri": "https://localhost:8080/"
        },
        "id": "fDIG2VYsGZQb",
        "outputId": "dfa495b4-8bfc-440c-f207-0e367a752fe2"
      },
      "execution_count": null,
      "outputs": [
        {
          "output_type": "execute_result",
          "data": {
            "text/plain": [
              "(array([ 0.,  0., -1.]), 3.33066907387547e-14)"
            ]
          },
          "metadata": {},
          "execution_count": 44
        }
      ]
    },
    {
      "cell_type": "code",
      "source": [
        "#METHOD 2 - For loop\n",
        "\n",
        "I = 3\n",
        "dx = 0.001  # <--- change this parameter to see how your estimate changes\n",
        "\n",
        "#(x,y) coordinates along the wire\n",
        "x = np.linspace(0,1,int(1/dx))\n",
        "y = np.zeros_like(x)\n",
        "\n",
        "#initiaze F to zero vector\n",
        "F = np.array([0.0,0.0,0.0])\n",
        "\n",
        "\n",
        "###YOUR CODE HERE (for loop)\n",
        "\n",
        "\n",
        "\n",
        "\n",
        "\n",
        "print(F)"
      ],
      "metadata": {
        "id": "c4hZ2JtpCsIq",
        "colab": {
          "base_uri": "https://localhost:8080/"
        },
        "outputId": "c5b23aea-cf39-4909-a7ee-871318fe7a45"
      },
      "execution_count": null,
      "outputs": [
        {
          "output_type": "stream",
          "name": "stdout",
          "text": [
            "[0. 0. 0.]\n"
          ]
        }
      ]
    },
    {
      "cell_type": "markdown",
      "source": [
        "Here is an example of what the for loop could have looked like:\n",
        "\n",
        "\n",
        "```\n",
        "for i in range(int(1/dx)):\n",
        "  F += I * (np.cross([dx,0,0],[3*x[i]**2,-1*x[i]**2,0]))\n",
        "\n",
        "```\n",
        "\n"
      ],
      "metadata": {
        "id": "mHHv5xnUVTpM"
      }
    },
    {
      "cell_type": "markdown",
      "source": [
        "---"
      ],
      "metadata": {
        "id": "D9aOl9ixVkpA"
      }
    },
    {
      "cell_type": "markdown",
      "source": [
        "Now we will solve the problem by hand to verify our estimate -\n",
        "\n",
        "\\begin{equation}\n",
        "   d\\vec{F} = Id\\vec{L}\\; \\times \\; \\vec{B}\n",
        "\\end{equation}\n",
        "\n",
        "\n",
        "\\begin{equation}\n",
        "   d\\vec{L}=\\; dx \\; \\hat{i}\n",
        "\\end{equation}\n",
        "\n",
        "\\\n",
        "\\begin{equation}\n",
        "   d\\vec{L}\\;\\times\\; \\vec{B} =\n",
        "   \\begin{vmatrix}\n",
        "    i & j  & k  \\\\\n",
        "    dx  & 0  & 0 \\\\\n",
        "    B_x & B_y & 0 \\\\\n",
        "  \\end{vmatrix}\n",
        "\\end{equation}\n",
        "\n",
        "\n",
        "\\begin{equation}\n",
        "   =\\; 0i \\; + \\;0j -(x^2dx) \\; k\n",
        "\\end{equation}\n",
        "\n",
        "\\\n",
        "\\begin{equation}\n",
        "   F⃗= 3 \\int_{0}^{1} -x^2 \\,dx \\, \\hat{k}\n",
        "\\end{equation}\n",
        "\\begin{equation}\n",
        "   F⃗= -3 \\; \\left[\\frac{x^3}{3}\\right]_0^1 \\; \\hat{k}\n",
        "\\end{equation}\n",
        "\\\n",
        "\\begin{equation}\n",
        "   F⃗= -1 \\;N \\;\\hat{k}\n",
        "\\end{equation}\n",
        "\n",
        "\n",
        "So we can see that our computational integration gave us the right answer! This problem specifically was not too hard to do by hand, so you probably would not go through the trouble of writing code to do the integral for you. However, you can imagine a slight variation of this problem (imagine the wire was curvy) would be much easier to do in python.\n",
        "\n",
        "\n"
      ],
      "metadata": {
        "id": "rwmVLbIBVmuR"
      }
    }
  ]
}
